{
 "cells": [
  {
   "cell_type": "code",
   "execution_count": 1,
   "id": "1b43b44d-d384-4b51-9d0c-ff4bfd03f04b",
   "metadata": {},
   "outputs": [],
   "source": [
    "import numpy as np"
   ]
  },
  {
   "cell_type": "markdown",
   "id": "74ff3d46-56f4-4499-b262-350abb4d98b4",
   "metadata": {},
   "source": [
    "一，保存ndarray"
   ]
  },
  {
   "cell_type": "code",
   "execution_count": 4,
   "id": "db21e550-42f2-4e20-b30f-cfcf4ae4ba46",
   "metadata": {},
   "outputs": [],
   "source": [
    "x = np.arange(4)\n",
    "y = np.arange(43,68)\n",
    "\n",
    "#save保存成一个npy文件\n",
    "np.save('x',x)\n",
    "\n",
    "#savez保存成一个npz文件\n",
    "np.savez('arr.npz',xarr=x,yarr=y)"
   ]
  },
  {
   "cell_type": "markdown",
   "id": "0fd01b70-43c2-4ebe-a2d2-155db4a2e049",
   "metadata": {},
   "source": [
    "二，读取ndarray"
   ]
  },
  {
   "cell_type": "code",
   "execution_count": 8,
   "id": "bf977771-4d8e-4f36-bcb9-16a863428b4b",
   "metadata": {
    "collapsed": true,
    "jupyter": {
     "outputs_hidden": true
    },
    "scrolled": true
   },
   "outputs": [
    {
     "data": {
      "text/plain": [
       "array([0, 1, 2, 3])"
      ]
     },
     "execution_count": 8,
     "metadata": {},
     "output_type": "execute_result"
    }
   ],
   "source": [
    "#读npy文件\n",
    "np.load('x.npy')\n",
    "\n",
    "#读npz文件\n",
    "np.load('arr.npz')['xarr']"
   ]
  },
  {
   "cell_type": "markdown",
   "id": "baadf55c-4bce-4517-9fb8-4e881f5a007a",
   "metadata": {},
   "source": [
    "三，csv，txt读写"
   ]
  },
  {
   "cell_type": "code",
   "execution_count": 10,
   "id": "4c1eecdb-50bc-475e-8420-dd7842954594",
   "metadata": {},
   "outputs": [
    {
     "data": {
      "text/plain": [
       "array([[0, 9, 0, 5, 8],\n",
       "       [4, 1, 4, 2, 6],\n",
       "       [8, 9, 9, 7, 5]], dtype=int32)"
      ]
     },
     "execution_count": 10,
     "metadata": {},
     "output_type": "execute_result"
    }
   ],
   "source": [
    "n = np.random.randint(0,10,size=(3,5))\n",
    "n"
   ]
  },
  {
   "cell_type": "code",
   "execution_count": 12,
   "id": "4eccfaca-8bc4-48f6-88da-6d3cd75e49b1",
   "metadata": {},
   "outputs": [],
   "source": [
    "#存储到csv或txt\n",
    "np.savetxt('arr.txt',n)\n",
    "#delimiter分割符\n",
    "np.savetxt('arr.csv',n,delimiter=',')"
   ]
  },
  {
   "cell_type": "code",
   "execution_count": 17,
   "id": "c65d95ea-9f20-4405-b32a-cce847b26480",
   "metadata": {
    "collapsed": true,
    "jupyter": {
     "outputs_hidden": true
    }
   },
   "outputs": [
    {
     "name": "stderr",
     "output_type": "stream",
     "text": [
      "C:\\Users\\freedom\\AppData\\Local\\Temp\\ipykernel_11988\\4113544725.py:2: DeprecationWarning: loadtxt(): Parsing an integer via a float is deprecated.  To avoid this warning, you can:\n",
      "    * make sure the original data is stored as integers.\n",
      "    * use the `converters=` keyword argument.  If you only use\n",
      "      NumPy 1.23 or later, `converters=float` will normally work.\n",
      "    * Use `np.loadtxt(...).astype(np.int64)` parsing the file as\n",
      "      floating point and then convert it.  (On all NumPy versions.)\n",
      "  (Deprecated NumPy 1.23)\n",
      "  np.loadtxt('arr.csv',delimiter=',',dtype=np.int16)\n"
     ]
    },
    {
     "data": {
      "text/plain": [
       "array([[0, 9, 0, 5, 8],\n",
       "       [4, 1, 4, 2, 6],\n",
       "       [8, 9, 9, 7, 5]], dtype=int16)"
      ]
     },
     "execution_count": 17,
     "metadata": {},
     "output_type": "execute_result"
    }
   ],
   "source": [
    "#读取csv或txt\n",
    "np.loadtxt('arr.csv',delimiter=',',dtype=np.int16)"
   ]
  },
  {
   "cell_type": "code",
   "execution_count": null,
   "id": "42113988-a44a-46b3-9364-6e372e5c8880",
   "metadata": {},
   "outputs": [],
   "source": []
  },
  {
   "cell_type": "code",
   "execution_count": null,
   "id": "ff03a34a-efaf-4d6e-ba85-203505b6e8b1",
   "metadata": {},
   "outputs": [],
   "source": []
  },
  {
   "cell_type": "code",
   "execution_count": null,
   "id": "8d89eee6-ce3f-4b51-996e-30b29f5260a5",
   "metadata": {},
   "outputs": [],
   "source": []
  },
  {
   "cell_type": "code",
   "execution_count": null,
   "id": "c89a64c5-cf35-4a9a-bce2-5ffa4f552a94",
   "metadata": {},
   "outputs": [],
   "source": []
  },
  {
   "cell_type": "code",
   "execution_count": null,
   "id": "ce83776a-9e21-493b-ac68-235401231b5e",
   "metadata": {},
   "outputs": [],
   "source": []
  },
  {
   "cell_type": "code",
   "execution_count": null,
   "id": "c4b4101a-24f4-46cf-9521-0a7885600907",
   "metadata": {},
   "outputs": [],
   "source": []
  },
  {
   "cell_type": "code",
   "execution_count": null,
   "id": "11e1ec4c-2d4f-4fb1-b7fd-b892b9c08d98",
   "metadata": {},
   "outputs": [],
   "source": []
  },
  {
   "cell_type": "code",
   "execution_count": null,
   "id": "bc1f77ed-a074-4ab6-bca2-7b698e139d69",
   "metadata": {},
   "outputs": [],
   "source": []
  },
  {
   "cell_type": "code",
   "execution_count": null,
   "id": "f58a639b-7051-4d4e-b618-77a4d40ed374",
   "metadata": {},
   "outputs": [],
   "source": []
  },
  {
   "cell_type": "code",
   "execution_count": null,
   "id": "b6e31a97-9266-47a2-824c-3a608c651cbc",
   "metadata": {},
   "outputs": [],
   "source": []
  },
  {
   "cell_type": "code",
   "execution_count": null,
   "id": "d1f5e2fe-6fec-45a7-941a-ba79e9530e71",
   "metadata": {},
   "outputs": [],
   "source": []
  }
 ],
 "metadata": {
  "kernelspec": {
   "display_name": "Python 3 (ipykernel)",
   "language": "python",
   "name": "python3"
  },
  "language_info": {
   "codemirror_mode": {
    "name": "ipython",
    "version": 3
   },
   "file_extension": ".py",
   "mimetype": "text/x-python",
   "name": "python",
   "nbconvert_exporter": "python",
   "pygments_lexer": "ipython3",
   "version": "3.12.4"
  }
 },
 "nbformat": 4,
 "nbformat_minor": 5
}
