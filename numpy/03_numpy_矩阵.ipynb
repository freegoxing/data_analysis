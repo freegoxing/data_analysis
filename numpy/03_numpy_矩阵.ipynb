{
 "cells": [
  {
   "cell_type": "code",
   "execution_count": 1,
   "id": "56fc1dd8-0173-4f1f-b337-c9eab5307ba5",
   "metadata": {},
   "outputs": [],
   "source": [
    "import numpy as np\n",
    "import pandas as pd\n",
    "import matplotlib.pyplot as plt"
   ]
  },
  {
   "cell_type": "code",
   "execution_count": 4,
   "id": "fe28c7b2-bb44-4a84-af82-e5fd419ab31d",
   "metadata": {
    "collapsed": true,
    "jupyter": {
     "outputs_hidden": true
    }
   },
   "outputs": [
    {
     "data": {
      "text/plain": [
       "array([[3, 3, 3],\n",
       "       [6, 1, 3]], dtype=int32)"
      ]
     },
     "execution_count": 4,
     "metadata": {},
     "output_type": "execute_result"
    }
   ],
   "source": [
    "n = np.random.randint(0,10,size=(2,3))\n",
    "n"
   ]
  },
  {
   "cell_type": "markdown",
   "id": "2e34799a-8aa7-4dd4-aac4-cf17080675d8",
   "metadata": {},
   "source": [
    "一，矩阵的普通运算"
   ]
  },
  {
   "cell_type": "markdown",
   "id": "c2ac9ec2-f869-448f-8520-384833650e52",
   "metadata": {},
   "source": [
    "    1，与数的运算"
   ]
  },
  {
   "cell_type": "code",
   "execution_count": 7,
   "id": "75e22943-4a35-4d07-9662-a8f49233dc2a",
   "metadata": {
    "collapsed": true,
    "jupyter": {
     "outputs_hidden": true
    }
   },
   "outputs": [
    {
     "data": {
      "text/plain": [
       "array([[13, 13, 13],\n",
       "       [16, 11, 13]], dtype=int32)"
      ]
     },
     "metadata": {},
     "output_type": "display_data"
    },
    {
     "data": {
      "text/plain": [
       "array([[-7, -7, -7],\n",
       "       [-4, -9, -7]], dtype=int32)"
      ]
     },
     "metadata": {},
     "output_type": "display_data"
    },
    {
     "data": {
      "text/plain": [
       "array([[30, 30, 30],\n",
       "       [60, 10, 30]], dtype=int32)"
      ]
     },
     "metadata": {},
     "output_type": "display_data"
    },
    {
     "data": {
      "text/plain": [
       "array([[0.3, 0.3, 0.3],\n",
       "       [0.6, 0.1, 0.3]])"
      ]
     },
     "metadata": {},
     "output_type": "display_data"
    },
    {
     "data": {
      "text/plain": [
       "array([[1, 1, 1],\n",
       "       [3, 0, 1]], dtype=int32)"
      ]
     },
     "metadata": {},
     "output_type": "display_data"
    },
    {
     "data": {
      "text/plain": [
       "array([[ 9,  9,  9],\n",
       "       [36,  1,  9]], dtype=int32)"
      ]
     },
     "metadata": {},
     "output_type": "display_data"
    },
    {
     "data": {
      "text/plain": [
       "array([[0, 0, 0],\n",
       "       [0, 1, 0]], dtype=int32)"
      ]
     },
     "metadata": {},
     "output_type": "display_data"
    }
   ],
   "source": [
    "n1 = n + 10 #加+\n",
    "n2 = n - 10 #减-\n",
    "n3 = n * 10 #乘*\n",
    "n4 = n / 10 #除/\n",
    "n5 = n // 2 #整除//(求商)\n",
    "n6 = n ** 2 #次方**\n",
    "n7 = n % 3 #求模%\n",
    "display(n1,n2,n3,n4,n5,n6,n7)"
   ]
  },
  {
   "cell_type": "markdown",
   "id": "c6ee625a-8803-464c-a700-dbbad42638bb",
   "metadata": {},
   "source": [
    "    2,与矩阵的运算"
   ]
  },
  {
   "cell_type": "code",
   "execution_count": 8,
   "id": "6082896a-eba3-4c77-9378-96abe42598e8",
   "metadata": {
    "collapsed": true,
    "jupyter": {
     "outputs_hidden": true
    }
   },
   "outputs": [
    {
     "data": {
      "text/plain": [
       "array([[8, 5, 7, 7, 7, 6],\n",
       "       [3, 8, 9, 2, 7, 5],\n",
       "       [6, 0, 8, 4, 4, 6],\n",
       "       [1, 3, 3, 7, 8, 4]], dtype=int32)"
      ]
     },
     "metadata": {},
     "output_type": "display_data"
    },
    {
     "data": {
      "text/plain": [
       "array([[8, 8, 5, 1, 2, 8],\n",
       "       [1, 0, 8, 5, 9, 3],\n",
       "       [9, 1, 5, 2, 9, 2],\n",
       "       [4, 1, 0, 7, 2, 7]], dtype=int32)"
      ]
     },
     "metadata": {},
     "output_type": "display_data"
    }
   ],
   "source": [
    "n1 = np.random.randint(0,10,size=(4,6))\n",
    "n2 = np.random.randint(0,10,size=(4,6))\n",
    "display(n1,n2)"
   ]
  },
  {
   "cell_type": "code",
   "execution_count": 9,
   "id": "df32cd9c-fb03-49c1-8d96-4560ee13d83c",
   "metadata": {
    "collapsed": true,
    "jupyter": {
     "outputs_hidden": true
    }
   },
   "outputs": [
    {
     "data": {
      "text/plain": [
       "array([[16, 13, 12,  8,  9, 14],\n",
       "       [ 4,  8, 17,  7, 16,  8],\n",
       "       [15,  1, 13,  6, 13,  8],\n",
       "       [ 5,  4,  3, 14, 10, 11]], dtype=int32)"
      ]
     },
     "metadata": {},
     "output_type": "display_data"
    },
    {
     "data": {
      "text/plain": [
       "array([[64, 40, 35,  7, 14, 48],\n",
       "       [ 3,  0, 72, 10, 63, 15],\n",
       "       [54,  0, 40,  8, 36, 12],\n",
       "       [ 4,  3,  0, 49, 16, 28]], dtype=int32)"
      ]
     },
     "metadata": {},
     "output_type": "display_data"
    }
   ],
   "source": [
    "#加(对应元素相加)\n",
    "m1 = n1 + n2\n",
    "#减相似\n",
    "#乘*\n",
    "m2 = n1 * n2\n",
    "display(m1,m2)"
   ]
  },
  {
   "cell_type": "markdown",
   "id": "2b6d780e-147e-4725-bc37-0da30df3c292",
   "metadata": {},
   "source": [
    "二，线性代数"
   ]
  },
  {
   "cell_type": "markdown",
   "id": "8575fd33-6aaa-487d-bf97-e10b297f7128",
   "metadata": {},
   "source": [
    "    1，矩阵积\n",
    "       np.dot(n1,n2)\n",
    "       n1的列数 = n2的行数"
   ]
  },
  {
   "cell_type": "code",
   "execution_count": 10,
   "id": "dbbc5813-b045-44bb-bc84-e2a733301ba3",
   "metadata": {
    "collapsed": true,
    "jupyter": {
     "outputs_hidden": true
    }
   },
   "outputs": [
    {
     "data": {
      "text/plain": [
       "array([[7, 4, 2, 3, 0, 6],\n",
       "       [0, 1, 7, 6, 5, 3],\n",
       "       [9, 2, 3, 0, 1, 5],\n",
       "       [6, 9, 2, 7, 9, 3]], dtype=int32)"
      ]
     },
     "metadata": {},
     "output_type": "display_data"
    },
    {
     "data": {
      "text/plain": [
       "array([[7, 4, 1, 2, 4],\n",
       "       [6, 5, 4, 1, 2],\n",
       "       [2, 0, 0, 8, 5],\n",
       "       [8, 0, 7, 4, 7],\n",
       "       [8, 3, 0, 7, 7],\n",
       "       [4, 5, 9, 6, 3]], dtype=int32)"
      ]
     },
     "metadata": {},
     "output_type": "display_data"
    }
   ],
   "source": [
    "n1 = np.random.randint(0,10,size=(4,6))\n",
    "n2 = np.random.randint(0,10,size=(6,5))\n",
    "display(n1,n2)"
   ]
  },
  {
   "cell_type": "code",
   "execution_count": 11,
   "id": "b9d4180f-7661-44d2-b161-0b931d9d71aa",
   "metadata": {
    "collapsed": true,
    "jupyter": {
     "outputs_hidden": true
    }
   },
   "outputs": [
    {
     "data": {
      "text/plain": [
       "array([[125,  78,  98,  82,  85],\n",
       "       [120,  35,  73, 134, 123],\n",
       "       [109,  74,  62,  81,  77],\n",
       "       [240, 111, 118, 146, 173]], dtype=int32)"
      ]
     },
     "execution_count": 11,
     "metadata": {},
     "output_type": "execute_result"
    }
   ],
   "source": [
    "np.dot(n1,n2)"
   ]
  },
  {
   "cell_type": "markdown",
   "id": "e1bbb0ad-b77b-400e-9145-2d910ae493a8",
   "metadata": {},
   "source": [
    "    2,其他常见操作"
   ]
  },
  {
   "cell_type": "code",
   "execution_count": 12,
   "id": "4860b0fa-e51e-4845-9ce2-513cb23dc399",
   "metadata": {
    "collapsed": true,
    "jupyter": {
     "outputs_hidden": true
    }
   },
   "outputs": [
    {
     "data": {
      "text/plain": [
       "array([[1, 2, 5],\n",
       "       [3, 7, 3],\n",
       "       [2, 4, 9]])"
      ]
     },
     "execution_count": 12,
     "metadata": {},
     "output_type": "execute_result"
    }
   ],
   "source": [
    "n = np.array([[1,2,5],\n",
    "              [3,7,3],\n",
    "              [2,4,9]])\n",
    "n"
   ]
  },
  {
   "cell_type": "code",
   "execution_count": 13,
   "id": "7abe3d04-58d4-4a29-bc85-4e30c47b3199",
   "metadata": {
    "collapsed": true,
    "jupyter": {
     "outputs_hidden": true
    }
   },
   "outputs": [
    {
     "data": {
      "text/plain": [
       "array([[-51.,  -2.,  29.],\n",
       "       [ 21.,   1., -12.],\n",
       "       [  2.,   0.,  -1.]])"
      ]
     },
     "execution_count": 13,
     "metadata": {},
     "output_type": "execute_result"
    }
   ],
   "source": [
    "#矩阵的逆\n",
    "np.linalg.inv(n)"
   ]
  },
  {
   "cell_type": "code",
   "execution_count": 14,
   "id": "358e58ee-080b-4134-9da6-4e9fc53b2bc7",
   "metadata": {},
   "outputs": [
    {
     "data": {
      "text/plain": [
       "np.float64(-0.9999999999999992)"
      ]
     },
     "execution_count": 14,
     "metadata": {},
     "output_type": "execute_result"
    }
   ],
   "source": [
    "#矩阵的行列式\n",
    "np.linalg.det(n)"
   ]
  },
  {
   "cell_type": "code",
   "execution_count": 16,
   "id": "65aa3ac1-8390-4b58-b1d4-953ed8c9a6b9",
   "metadata": {},
   "outputs": [
    {
     "data": {
      "text/plain": [
       "np.int64(3)"
      ]
     },
     "execution_count": 16,
     "metadata": {},
     "output_type": "execute_result"
    }
   ],
   "source": [
    "#矩阵的秩(仅方阵)\n",
    "np.linalg.matrix_rank(n)\n",
    "#rank <= 矩阵的阶数\n",
    "#等于为满秩矩阵\n",
    "#小于为奇异矩阵"
   ]
  },
  {
   "cell_type": "markdown",
   "id": "bf4d27aa-ff2d-476c-9f80-042c3b032210",
   "metadata": {},
   "source": [
    "三，广播机制"
   ]
  },
  {
   "cell_type": "markdown",
   "id": "e036d4c5-070c-43af-b6f4-f5897e09be52",
   "metadata": {},
   "source": [
    "    1为缺失的维度补维度\n",
    "    2，缺失的元素用已有的补充"
   ]
  },
  {
   "cell_type": "code",
   "execution_count": 19,
   "id": "fa0b339e-3106-4a61-bf8d-1cf2bf7a87c8",
   "metadata": {
    "collapsed": true,
    "jupyter": {
     "outputs_hidden": true
    }
   },
   "outputs": [
    {
     "data": {
      "text/plain": [
       "array([[1., 1.],\n",
       "       [1., 1.],\n",
       "       [1., 1.]])"
      ]
     },
     "metadata": {},
     "output_type": "display_data"
    },
    {
     "data": {
      "text/plain": [
       "array([0, 1])"
      ]
     },
     "metadata": {},
     "output_type": "display_data"
    }
   ],
   "source": [
    "m = np.ones((3,2))\n",
    "a = np.arange(2)\n",
    "display(m,a)"
   ]
  },
  {
   "cell_type": "code",
   "execution_count": 21,
   "id": "f6a3fc36-217f-4e4f-a447-5cb4a854a2d1",
   "metadata": {
    "collapsed": true,
    "jupyter": {
     "outputs_hidden": true
    }
   },
   "outputs": [
    {
     "data": {
      "text/plain": [
       "array([[1., 2.],\n",
       "       [1., 2.],\n",
       "       [1., 2.]])"
      ]
     },
     "execution_count": 21,
     "metadata": {},
     "output_type": "execute_result"
    }
   ],
   "source": [
    "m + a\n",
    "#为a添加了一个维度\n",
    "#即a = array([[0,1],\n",
    "#             [0,1]])"
   ]
  },
  {
   "cell_type": "code",
   "execution_count": 23,
   "id": "df097668-3bda-43f4-a5f2-eafcd36a98b2",
   "metadata": {},
   "outputs": [
    {
     "data": {
      "text/plain": [
       "array([[0],\n",
       "       [1],\n",
       "       [2]])"
      ]
     },
     "metadata": {},
     "output_type": "display_data"
    },
    {
     "data": {
      "text/plain": [
       "array([0, 1, 2])"
      ]
     },
     "metadata": {},
     "output_type": "display_data"
    }
   ],
   "source": [
    "a = np.arange(3).reshape((-1,1))\n",
    "b = np.arange(3)                         \n",
    "display(a,b)"
   ]
  },
  {
   "cell_type": "code",
   "execution_count": 25,
   "id": "14d86407-af01-42e5-8133-e1e7bfe64779",
   "metadata": {
    "collapsed": true,
    "jupyter": {
     "outputs_hidden": true
    }
   },
   "outputs": [
    {
     "data": {
      "text/plain": [
       "array([[0, 1, 2],\n",
       "       [1, 2, 3],\n",
       "       [2, 3, 4]])"
      ]
     },
     "execution_count": 25,
     "metadata": {},
     "output_type": "execute_result"
    }
   ],
   "source": [
    "a + b\n",
    "#为a，b填充维度\n",
    "#即a = array([[0,0,0],      \n",
    "#             [1,1,1]，\n",
    "#             [2,2,2]])\n",
    "#即b = array([[0,1,2],      \n",
    "#             [0,1,2]，\n",
    "#             [0,1,2]])"
   ]
  },
  {
   "cell_type": "code",
   "execution_count": null,
   "id": "0492d93c-1657-480d-9a72-fe0cb0ceb9e2",
   "metadata": {},
   "outputs": [],
   "source": []
  }
 ],
 "metadata": {
  "kernelspec": {
   "display_name": "Python 3 (ipykernel)",
   "language": "python",
   "name": "python3"
  },
  "language_info": {
   "codemirror_mode": {
    "name": "ipython",
    "version": 3
   },
   "file_extension": ".py",
   "mimetype": "text/x-python",
   "name": "python",
   "nbconvert_exporter": "python",
   "pygments_lexer": "ipython3",
   "version": "3.12.4"
  }
 },
 "nbformat": 4,
 "nbformat_minor": 5
}
