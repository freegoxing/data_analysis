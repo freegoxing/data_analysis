{
 "cells": [
  {
   "cell_type": "code",
   "execution_count": 3,
   "id": "8be5358d-3d6f-400b-b9af-87f5f2591f2d",
   "metadata": {},
   "outputs": [],
   "source": [
    "import numpy as np\n",
    "import pandas as pd"
   ]
  },
  {
   "cell_type": "markdown",
   "id": "3c0257bc-cc25-4476-873e-e94341724e67",
   "metadata": {},
   "source": [
    "在values为数值时与numpy一致"
   ]
  },
  {
   "cell_type": "code",
   "execution_count": 6,
   "id": "111aa83f-7095-4314-ba9d-97092b9934a0",
   "metadata": {
    "collapsed": true,
    "jupyter": {
     "outputs_hidden": true
    }
   },
   "outputs": [
    {
     "data": {
      "text/plain": [
       "0    1\n",
       "1    4\n",
       "2    9\n",
       "3    4\n",
       "4    5\n",
       "5    4\n",
       "6    4\n",
       "dtype: int32"
      ]
     },
     "execution_count": 6,
     "metadata": {},
     "output_type": "execute_result"
    }
   ],
   "source": [
    "s = pd.Series(np.random.randint(0,10,size=(7,)))\n",
    "s"
   ]
  },
  {
   "cell_type": "code",
   "execution_count": 7,
   "id": "b07e33f8-f4ba-4b4a-89b8-885ce15b50bb",
   "metadata": {
    "collapsed": true,
    "jupyter": {
     "outputs_hidden": true
    }
   },
   "outputs": [
    {
     "data": {
      "text/plain": [
       "0    11\n",
       "1    14\n",
       "2    19\n",
       "3    14\n",
       "4    15\n",
       "5    14\n",
       "6    14\n",
       "dtype: int32"
      ]
     },
     "metadata": {},
     "output_type": "display_data"
    },
    {
     "data": {
      "text/plain": [
       "0   -9\n",
       "1   -6\n",
       "2   -1\n",
       "3   -6\n",
       "4   -5\n",
       "5   -6\n",
       "6   -6\n",
       "dtype: int32"
      ]
     },
     "metadata": {},
     "output_type": "display_data"
    },
    {
     "data": {
      "text/plain": [
       "0    10\n",
       "1    40\n",
       "2    90\n",
       "3    40\n",
       "4    50\n",
       "5    40\n",
       "6    40\n",
       "dtype: int32"
      ]
     },
     "metadata": {},
     "output_type": "display_data"
    },
    {
     "data": {
      "text/plain": [
       "0    0.1\n",
       "1    0.4\n",
       "2    0.9\n",
       "3    0.4\n",
       "4    0.5\n",
       "5    0.4\n",
       "6    0.4\n",
       "dtype: float64"
      ]
     },
     "metadata": {},
     "output_type": "display_data"
    },
    {
     "data": {
      "text/plain": [
       "0    0\n",
       "1    2\n",
       "2    4\n",
       "3    2\n",
       "4    2\n",
       "5    2\n",
       "6    2\n",
       "dtype: int32"
      ]
     },
     "metadata": {},
     "output_type": "display_data"
    },
    {
     "data": {
      "text/plain": [
       "0     1\n",
       "1    16\n",
       "2    81\n",
       "3    16\n",
       "4    25\n",
       "5    16\n",
       "6    16\n",
       "dtype: int32"
      ]
     },
     "metadata": {},
     "output_type": "display_data"
    },
    {
     "data": {
      "text/plain": [
       "0    1\n",
       "1    1\n",
       "2    0\n",
       "3    1\n",
       "4    2\n",
       "5    1\n",
       "6    1\n",
       "dtype: int32"
      ]
     },
     "metadata": {},
     "output_type": "display_data"
    }
   ],
   "source": [
    "s1 = s + 10 #加+\n",
    "s2 = s - 10 #减-\n",
    "s3 = s * 10 #乘*\n",
    "s4 = s / 10 #除/\n",
    "s5 = s // 2 #整除//(求商)\n",
    "s6 = s ** 2 #次方**\n",
    "s7 = s % 3 #求模%\n",
    "display(s1,s2,s3,s4,s5,s6,s7)"
   ]
  },
  {
   "cell_type": "markdown",
   "id": "b7c9c8e9-438f-4b5f-9602-ab0562907f27",
   "metadata": {},
   "source": [
    "series间的运算"
   ]
  },
  {
   "cell_type": "code",
   "execution_count": 13,
   "id": "35fb3f08-40bb-44ea-80e6-1437df5abe19",
   "metadata": {
    "collapsed": true,
    "jupyter": {
     "outputs_hidden": true
    }
   },
   "outputs": [
    {
     "data": {
      "text/plain": [
       "0    8\n",
       "1    5\n",
       "2    4\n",
       "3    0\n",
       "4    0\n",
       "5    0\n",
       "6    7\n",
       "dtype: int32"
      ]
     },
     "metadata": {},
     "output_type": "display_data"
    },
    {
     "data": {
      "text/plain": [
       "0    0\n",
       "1    4\n",
       "2    4\n",
       "3    1\n",
       "4    1\n",
       "5    8\n",
       "6    0\n",
       "dtype: int32"
      ]
     },
     "metadata": {},
     "output_type": "display_data"
    }
   ],
   "source": [
    "s1 = pd.Series(np.random.randint(0,10,size=(7,)))\n",
    "s2 = pd.Series(np.random.randint(0,10,size=(7,)))\n",
    "display(s1, s2)"
   ]
  },
  {
   "cell_type": "code",
   "execution_count": 14,
   "id": "f194824b-8b63-40ce-b9e4-de660011b410",
   "metadata": {
    "collapsed": true,
    "jupyter": {
     "outputs_hidden": true
    }
   },
   "outputs": [
    {
     "data": {
      "text/plain": [
       "0    8\n",
       "1    9\n",
       "2    8\n",
       "3    1\n",
       "4    1\n",
       "5    8\n",
       "6    7\n",
       "dtype: int32"
      ]
     },
     "metadata": {},
     "output_type": "display_data"
    },
    {
     "data": {
      "text/plain": [
       "0    8\n",
       "1    1\n",
       "2    0\n",
       "3   -1\n",
       "4   -1\n",
       "5   -8\n",
       "6    7\n",
       "dtype: int32"
      ]
     },
     "metadata": {},
     "output_type": "display_data"
    },
    {
     "data": {
      "text/plain": [
       "0     0\n",
       "1    20\n",
       "2    16\n",
       "3     0\n",
       "4     0\n",
       "5     0\n",
       "6     0\n",
       "dtype: int32"
      ]
     },
     "metadata": {},
     "output_type": "display_data"
    }
   ],
   "source": [
    "#对应元素\n",
    "m1 = s1 + s2\n",
    "m2 = s1 - s2\n",
    "m3 = s1*s2\n",
    "display(m1,m2,m3)"
   ]
  },
  {
   "cell_type": "code",
   "execution_count": 16,
   "id": "d756ad51-d6a5-4ce5-a28a-a8284f14a55b",
   "metadata": {},
   "outputs": [
    {
     "data": {
      "text/plain": [
       "0    1\n",
       "1    0\n",
       "2    7\n",
       "3    0\n",
       "4    9\n",
       "5    2\n",
       "6    8\n",
       "dtype: int32"
      ]
     },
     "metadata": {},
     "output_type": "display_data"
    },
    {
     "data": {
      "text/plain": [
       "0    8\n",
       "1    1\n",
       "2    9\n",
       "3    5\n",
       "4    9\n",
       "dtype: int32"
      ]
     },
     "metadata": {},
     "output_type": "display_data"
    }
   ],
   "source": [
    "#size不一致\n",
    "s1 = pd.Series(np.random.randint(0,10,size=(7,)))\n",
    "s2 = pd.Series(np.random.randint(0,10,size=(5,)))\n",
    "display(s1, s2)"
   ]
  },
  {
   "cell_type": "code",
   "execution_count": 17,
   "id": "51a6a29a-33d6-4e44-9738-472cd2f0fef0",
   "metadata": {},
   "outputs": [
    {
     "data": {
      "text/plain": [
       "0     9.0\n",
       "1     1.0\n",
       "2    16.0\n",
       "3     5.0\n",
       "4    18.0\n",
       "5     NaN\n",
       "6     NaN\n",
       "dtype: float64"
      ]
     },
     "execution_count": 17,
     "metadata": {},
     "output_type": "execute_result"
    }
   ],
   "source": [
    "s1+s2#(其实是对应索引进行运算)"
   ]
  },
  {
   "cell_type": "markdown",
   "id": "bd546d07-d7bb-4ebb-a704-64bf55427aa5",
   "metadata": {},
   "source": [
    "series无广播机制"
   ]
  },
  {
   "cell_type": "code",
   "execution_count": 18,
   "id": "b42b548b-e75b-4973-8578-bc1fe7a51660",
   "metadata": {},
   "outputs": [
    {
     "data": {
      "text/plain": [
       "0     9.0\n",
       "1     1.0\n",
       "2    16.0\n",
       "3     5.0\n",
       "4    18.0\n",
       "5     2.0\n",
       "6     8.0\n",
       "dtype: float64"
      ]
     },
     "execution_count": 18,
     "metadata": {},
     "output_type": "execute_result"
    }
   ],
   "source": [
    "#利用add()来填充nan进行运算\n",
    "s2.add(s1,fill_value=0)"
   ]
  },
  {
   "cell_type": "code",
   "execution_count": null,
   "id": "dcb22cf5-c147-459d-9947-47f489014632",
   "metadata": {},
   "outputs": [],
   "source": []
  },
  {
   "cell_type": "code",
   "execution_count": null,
   "id": "33a968ab-4064-4cb6-9000-c58f780d4a48",
   "metadata": {},
   "outputs": [],
   "source": []
  },
  {
   "cell_type": "code",
   "execution_count": null,
   "id": "8eb8006e-ee1e-47b0-acc0-0d73aa3fe543",
   "metadata": {},
   "outputs": [],
   "source": []
  },
  {
   "cell_type": "code",
   "execution_count": null,
   "id": "9ed45d38-9c5d-43d7-86b4-17e0462b448e",
   "metadata": {},
   "outputs": [],
   "source": []
  },
  {
   "cell_type": "code",
   "execution_count": null,
   "id": "1daa0d73-0e2a-41ce-a245-f266c590143f",
   "metadata": {},
   "outputs": [],
   "source": []
  },
  {
   "cell_type": "code",
   "execution_count": null,
   "id": "3d224704-b6b4-40c0-bfb6-de94d1735161",
   "metadata": {},
   "outputs": [],
   "source": []
  },
  {
   "cell_type": "code",
   "execution_count": null,
   "id": "a649ac67-be07-4c69-8ca3-0fa448b0b13a",
   "metadata": {},
   "outputs": [],
   "source": []
  },
  {
   "cell_type": "code",
   "execution_count": null,
   "id": "b22f54c6-b7e6-41ef-8b86-216713895909",
   "metadata": {},
   "outputs": [],
   "source": []
  },
  {
   "cell_type": "code",
   "execution_count": null,
   "id": "c274f4dd-2834-4269-931c-8498e8b00903",
   "metadata": {},
   "outputs": [],
   "source": []
  },
  {
   "cell_type": "code",
   "execution_count": null,
   "id": "145961a1-3e7c-41f7-bc9a-7a2e26706388",
   "metadata": {},
   "outputs": [],
   "source": []
  },
  {
   "cell_type": "code",
   "execution_count": null,
   "id": "b849f233-bb45-45cc-afb3-5406377151a3",
   "metadata": {},
   "outputs": [],
   "source": []
  },
  {
   "cell_type": "code",
   "execution_count": null,
   "id": "dc430d53-56df-4768-9ff8-08ee44b0311c",
   "metadata": {},
   "outputs": [],
   "source": []
  },
  {
   "cell_type": "code",
   "execution_count": null,
   "id": "dc9bc527-312d-49b8-a191-d5f54a8aeb26",
   "metadata": {},
   "outputs": [],
   "source": []
  },
  {
   "cell_type": "code",
   "execution_count": null,
   "id": "3f8d1728-f3fb-42d2-ab6f-0f33f99b1d40",
   "metadata": {},
   "outputs": [],
   "source": []
  },
  {
   "cell_type": "code",
   "execution_count": null,
   "id": "8e6738be-4051-41b4-a389-18cae2c2f3f0",
   "metadata": {},
   "outputs": [],
   "source": []
  },
  {
   "cell_type": "code",
   "execution_count": null,
   "id": "e491e192-5897-45df-a0db-a9b05370d75d",
   "metadata": {},
   "outputs": [],
   "source": []
  }
 ],
 "metadata": {
  "kernelspec": {
   "display_name": "Python 3 (ipykernel)",
   "language": "python",
   "name": "python3"
  },
  "language_info": {
   "codemirror_mode": {
    "name": "ipython",
    "version": 3
   },
   "file_extension": ".py",
   "mimetype": "text/x-python",
   "name": "python",
   "nbconvert_exporter": "python",
   "pygments_lexer": "ipython3",
   "version": "3.12.4"
  }
 },
 "nbformat": 4,
 "nbformat_minor": 5
}
