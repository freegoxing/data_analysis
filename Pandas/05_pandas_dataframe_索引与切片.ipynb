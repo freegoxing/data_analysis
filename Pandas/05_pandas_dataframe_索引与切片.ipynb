{
 "cells": [
  {
   "cell_type": "code",
   "execution_count": 1,
   "id": "2df7002a-f503-4a95-8795-70d86f346b05",
   "metadata": {},
   "outputs": [],
   "source": [
    "import numpy as np\n",
    "import pandas as pd"
   ]
  },
  {
   "cell_type": "code",
   "execution_count": 4,
   "id": "aa3b208f-335a-4c22-981a-48562d9c3ab1",
   "metadata": {
    "collapsed": true,
    "jupyter": {
     "outputs_hidden": true
    }
   },
   "outputs": [
    {
     "data": {
      "text/html": [
       "<div>\n",
       "<style scoped>\n",
       "    .dataframe tbody tr th:only-of-type {\n",
       "        vertical-align: middle;\n",
       "    }\n",
       "\n",
       "    .dataframe tbody tr th {\n",
       "        vertical-align: top;\n",
       "    }\n",
       "\n",
       "    .dataframe thead th {\n",
       "        text-align: right;\n",
       "    }\n",
       "</style>\n",
       "<table border=\"1\" class=\"dataframe\">\n",
       "  <thead>\n",
       "    <tr style=\"text-align: right;\">\n",
       "      <th></th>\n",
       "      <th>语文</th>\n",
       "      <th>数学</th>\n",
       "      <th>英语</th>\n",
       "      <th>物理</th>\n",
       "      <th>化学</th>\n",
       "      <th>生物</th>\n",
       "    </tr>\n",
       "  </thead>\n",
       "  <tbody>\n",
       "    <tr>\n",
       "      <th>小明</th>\n",
       "      <td>93</td>\n",
       "      <td>60</td>\n",
       "      <td>90</td>\n",
       "      <td>74</td>\n",
       "      <td>98</td>\n",
       "      <td>92</td>\n",
       "    </tr>\n",
       "    <tr>\n",
       "      <th>小刘</th>\n",
       "      <td>82</td>\n",
       "      <td>88</td>\n",
       "      <td>78</td>\n",
       "      <td>62</td>\n",
       "      <td>73</td>\n",
       "      <td>69</td>\n",
       "    </tr>\n",
       "    <tr>\n",
       "      <th>李华</th>\n",
       "      <td>86</td>\n",
       "      <td>79</td>\n",
       "      <td>75</td>\n",
       "      <td>76</td>\n",
       "      <td>71</td>\n",
       "      <td>81</td>\n",
       "    </tr>\n",
       "  </tbody>\n",
       "</table>\n",
       "</div>"
      ],
      "text/plain": [
       "    语文  数学  英语  物理  化学  生物\n",
       "小明  93  60  90  74  98  92\n",
       "小刘  82  88  78  62  73  69\n",
       "李华  86  79  75  76  71  81"
      ]
     },
     "execution_count": 4,
     "metadata": {},
     "output_type": "execute_result"
    }
   ],
   "source": [
    "df = pd.DataFrame(\n",
    "    data=np.random.randint(60,101,size=(3,6)),\n",
    "    index=['小明','小刘','李华'],\n",
    "    columns=['语文','数学','英语','物理','化学','生物']\n",
    ")\n",
    "\n",
    "df"
   ]
  },
  {
   "cell_type": "markdown",
   "id": "ef3104be-96e3-493f-a707-77aab8c7974e",
   "metadata": {},
   "source": [
    "一，索引       \n",
    "    默认列索引"
   ]
  },
  {
   "cell_type": "code",
   "execution_count": 23,
   "id": "ca6847ba-d502-4ad3-89c0-585a59873c41",
   "metadata": {
    "collapsed": true,
    "jupyter": {
     "outputs_hidden": true
    }
   },
   "outputs": [
    {
     "data": {
      "text/html": [
       "<div>\n",
       "<style scoped>\n",
       "    .dataframe tbody tr th:only-of-type {\n",
       "        vertical-align: middle;\n",
       "    }\n",
       "\n",
       "    .dataframe tbody tr th {\n",
       "        vertical-align: top;\n",
       "    }\n",
       "\n",
       "    .dataframe thead th {\n",
       "        text-align: right;\n",
       "    }\n",
       "</style>\n",
       "<table border=\"1\" class=\"dataframe\">\n",
       "  <thead>\n",
       "    <tr style=\"text-align: right;\">\n",
       "      <th></th>\n",
       "      <th>语文</th>\n",
       "      <th>化学</th>\n",
       "    </tr>\n",
       "  </thead>\n",
       "  <tbody>\n",
       "    <tr>\n",
       "      <th>小明</th>\n",
       "      <td>93</td>\n",
       "      <td>98</td>\n",
       "    </tr>\n",
       "    <tr>\n",
       "      <th>小刘</th>\n",
       "      <td>82</td>\n",
       "      <td>73</td>\n",
       "    </tr>\n",
       "    <tr>\n",
       "      <th>李华</th>\n",
       "      <td>86</td>\n",
       "      <td>71</td>\n",
       "    </tr>\n",
       "  </tbody>\n",
       "</table>\n",
       "</div>"
      ],
      "text/plain": [
       "    语文  化学\n",
       "小明  93  98\n",
       "小刘  82  73\n",
       "李华  86  71"
      ]
     },
     "execution_count": 23,
     "metadata": {},
     "output_type": "execute_result"
    }
   ],
   "source": [
    "#dataframe\n",
    "#列索引\n",
    "#可以'.'+'name'\n",
    "df.语文\n",
    "df['语文']\n",
    "\n",
    "#多列索引\n",
    "df[['语文','化学']]"
   ]
  },
  {
   "cell_type": "code",
   "execution_count": 17,
   "id": "4e763802-3b43-4851-a956-5a4ad61296f0",
   "metadata": {
    "collapsed": true,
    "jupyter": {
     "outputs_hidden": true
    }
   },
   "outputs": [
    {
     "data": {
      "text/html": [
       "<div>\n",
       "<style scoped>\n",
       "    .dataframe tbody tr th:only-of-type {\n",
       "        vertical-align: middle;\n",
       "    }\n",
       "\n",
       "    .dataframe tbody tr th {\n",
       "        vertical-align: top;\n",
       "    }\n",
       "\n",
       "    .dataframe thead th {\n",
       "        text-align: right;\n",
       "    }\n",
       "</style>\n",
       "<table border=\"1\" class=\"dataframe\">\n",
       "  <thead>\n",
       "    <tr style=\"text-align: right;\">\n",
       "      <th></th>\n",
       "      <th>语文</th>\n",
       "      <th>数学</th>\n",
       "      <th>英语</th>\n",
       "      <th>物理</th>\n",
       "      <th>化学</th>\n",
       "      <th>生物</th>\n",
       "    </tr>\n",
       "  </thead>\n",
       "  <tbody>\n",
       "    <tr>\n",
       "      <th>小明</th>\n",
       "      <td>93</td>\n",
       "      <td>60</td>\n",
       "      <td>90</td>\n",
       "      <td>74</td>\n",
       "      <td>98</td>\n",
       "      <td>92</td>\n",
       "    </tr>\n",
       "    <tr>\n",
       "      <th>李华</th>\n",
       "      <td>86</td>\n",
       "      <td>79</td>\n",
       "      <td>75</td>\n",
       "      <td>76</td>\n",
       "      <td>71</td>\n",
       "      <td>81</td>\n",
       "    </tr>\n",
       "  </tbody>\n",
       "</table>\n",
       "</div>"
      ],
      "text/plain": [
       "    语文  数学  英语  物理  化学  生物\n",
       "小明  93  60  90  74  98  92\n",
       "李华  86  79  75  76  71  81"
      ]
     },
     "execution_count": 17,
     "metadata": {},
     "output_type": "execute_result"
    }
   ],
   "source": [
    "#行索引\n",
    "#不能用df.小明\n",
    "#     df['小明']\n",
    "\n",
    "df.loc['小明']\n",
    "df.iloc[0]\n",
    "\n",
    "#多行\n",
    "df.loc[['小明','李华']]\n",
    "df.iloc[[0,2]]"
   ]
  },
  {
   "cell_type": "code",
   "execution_count": 22,
   "id": "3884fd94-cafc-42aa-b174-ce7934c69b9d",
   "metadata": {
    "collapsed": true,
    "jupyter": {
     "outputs_hidden": true
    }
   },
   "outputs": [
    {
     "name": "stderr",
     "output_type": "stream",
     "text": [
      "C:\\Users\\freedom\\AppData\\Local\\Temp\\ipykernel_13556\\953890905.py:8: FutureWarning: Series.__getitem__ treating keys as positions is deprecated. In a future version, integer keys will always be treated as labels (consistent with DataFrame behavior). To access a value by position, use `ser.iloc[pos]`\n",
      "  df.iloc[0][0]#或df.iloc[0,0]\n"
     ]
    },
    {
     "data": {
      "text/plain": [
       "np.int32(93)"
      ]
     },
     "execution_count": 22,
     "metadata": {},
     "output_type": "execute_result"
    }
   ],
   "source": [
    "#元素索引\n",
    "#先行\n",
    "df['语文']['小明']\n",
    "df.语文.小明\n",
    "\n",
    "#先列\n",
    "df.loc['小明']['语文']\n",
    "df.iloc[0][0]#或df.iloc[0,0]"
   ]
  },
  {
   "cell_type": "markdown",
   "id": "0264d17c-7d50-4102-bada-045df8a46340",
   "metadata": {},
   "source": [
    "三，切片       \n",
    "    默认行索引"
   ]
  },
  {
   "cell_type": "code",
   "execution_count": 24,
   "id": "8eddcaa6-a5a2-4ca1-bd6a-2b68cf73e2b3",
   "metadata": {},
   "outputs": [
    {
     "data": {
      "text/html": [
       "<div>\n",
       "<style scoped>\n",
       "    .dataframe tbody tr th:only-of-type {\n",
       "        vertical-align: middle;\n",
       "    }\n",
       "\n",
       "    .dataframe tbody tr th {\n",
       "        vertical-align: top;\n",
       "    }\n",
       "\n",
       "    .dataframe thead th {\n",
       "        text-align: right;\n",
       "    }\n",
       "</style>\n",
       "<table border=\"1\" class=\"dataframe\">\n",
       "  <thead>\n",
       "    <tr style=\"text-align: right;\">\n",
       "      <th></th>\n",
       "      <th>语文</th>\n",
       "      <th>数学</th>\n",
       "      <th>英语</th>\n",
       "      <th>物理</th>\n",
       "      <th>化学</th>\n",
       "      <th>生物</th>\n",
       "    </tr>\n",
       "  </thead>\n",
       "  <tbody>\n",
       "    <tr>\n",
       "      <th>小明</th>\n",
       "      <td>93</td>\n",
       "      <td>60</td>\n",
       "      <td>90</td>\n",
       "      <td>74</td>\n",
       "      <td>98</td>\n",
       "      <td>92</td>\n",
       "    </tr>\n",
       "    <tr>\n",
       "      <th>小刘</th>\n",
       "      <td>82</td>\n",
       "      <td>88</td>\n",
       "      <td>78</td>\n",
       "      <td>62</td>\n",
       "      <td>73</td>\n",
       "      <td>69</td>\n",
       "    </tr>\n",
       "    <tr>\n",
       "      <th>李华</th>\n",
       "      <td>86</td>\n",
       "      <td>79</td>\n",
       "      <td>75</td>\n",
       "      <td>76</td>\n",
       "      <td>71</td>\n",
       "      <td>81</td>\n",
       "    </tr>\n",
       "  </tbody>\n",
       "</table>\n",
       "</div>"
      ],
      "text/plain": [
       "    语文  数学  英语  物理  化学  生物\n",
       "小明  93  60  90  74  98  92\n",
       "小刘  82  88  78  62  73  69\n",
       "李华  86  79  75  76  71  81"
      ]
     },
     "execution_count": 24,
     "metadata": {},
     "output_type": "execute_result"
    }
   ],
   "source": [
    "df"
   ]
  },
  {
   "cell_type": "code",
   "execution_count": 29,
   "id": "de51fe49-a3c4-4532-8b5d-d16a1f792d17",
   "metadata": {
    "collapsed": true,
    "jupyter": {
     "outputs_hidden": true
    }
   },
   "outputs": [
    {
     "data": {
      "text/html": [
       "<div>\n",
       "<style scoped>\n",
       "    .dataframe tbody tr th:only-of-type {\n",
       "        vertical-align: middle;\n",
       "    }\n",
       "\n",
       "    .dataframe tbody tr th {\n",
       "        vertical-align: top;\n",
       "    }\n",
       "\n",
       "    .dataframe thead th {\n",
       "        text-align: right;\n",
       "    }\n",
       "</style>\n",
       "<table border=\"1\" class=\"dataframe\">\n",
       "  <thead>\n",
       "    <tr style=\"text-align: right;\">\n",
       "      <th></th>\n",
       "      <th>语文</th>\n",
       "      <th>数学</th>\n",
       "      <th>英语</th>\n",
       "      <th>物理</th>\n",
       "      <th>化学</th>\n",
       "      <th>生物</th>\n",
       "    </tr>\n",
       "  </thead>\n",
       "  <tbody>\n",
       "    <tr>\n",
       "      <th>小明</th>\n",
       "      <td>93</td>\n",
       "      <td>60</td>\n",
       "      <td>90</td>\n",
       "      <td>74</td>\n",
       "      <td>98</td>\n",
       "      <td>92</td>\n",
       "    </tr>\n",
       "    <tr>\n",
       "      <th>小刘</th>\n",
       "      <td>82</td>\n",
       "      <td>88</td>\n",
       "      <td>78</td>\n",
       "      <td>62</td>\n",
       "      <td>73</td>\n",
       "      <td>69</td>\n",
       "    </tr>\n",
       "    <tr>\n",
       "      <th>李华</th>\n",
       "      <td>86</td>\n",
       "      <td>79</td>\n",
       "      <td>75</td>\n",
       "      <td>76</td>\n",
       "      <td>71</td>\n",
       "      <td>81</td>\n",
       "    </tr>\n",
       "  </tbody>\n",
       "</table>\n",
       "</div>"
      ],
      "text/plain": [
       "    语文  数学  英语  物理  化学  生物\n",
       "小明  93  60  90  74  98  92\n",
       "小刘  82  88  78  62  73  69\n",
       "李华  86  79  75  76  71  81"
      ]
     },
     "execution_count": 29,
     "metadata": {},
     "output_type": "execute_result"
    }
   ],
   "source": [
    "#行切片\n",
    "df[0:2]#左闭右开\n",
    "df['小明':'李华']#左闭右闭\n",
    "\n",
    "df.iloc[0:2]#左闭右开\n",
    "df.loc['小明':'李华']#左闭右闭"
   ]
  },
  {
   "cell_type": "code",
   "execution_count": 33,
   "id": "20401688-34b8-47b3-ae29-7513dc93e7a5",
   "metadata": {
    "collapsed": true,
    "jupyter": {
     "outputs_hidden": true
    }
   },
   "outputs": [
    {
     "data": {
      "text/html": [
       "<div>\n",
       "<style scoped>\n",
       "    .dataframe tbody tr th:only-of-type {\n",
       "        vertical-align: middle;\n",
       "    }\n",
       "\n",
       "    .dataframe tbody tr th {\n",
       "        vertical-align: top;\n",
       "    }\n",
       "\n",
       "    .dataframe thead th {\n",
       "        text-align: right;\n",
       "    }\n",
       "</style>\n",
       "<table border=\"1\" class=\"dataframe\">\n",
       "  <thead>\n",
       "    <tr style=\"text-align: right;\">\n",
       "      <th></th>\n",
       "      <th>数学</th>\n",
       "      <th>英语</th>\n",
       "      <th>物理</th>\n",
       "      <th>化学</th>\n",
       "    </tr>\n",
       "  </thead>\n",
       "  <tbody>\n",
       "    <tr>\n",
       "      <th>小明</th>\n",
       "      <td>60</td>\n",
       "      <td>90</td>\n",
       "      <td>74</td>\n",
       "      <td>98</td>\n",
       "    </tr>\n",
       "    <tr>\n",
       "      <th>小刘</th>\n",
       "      <td>88</td>\n",
       "      <td>78</td>\n",
       "      <td>62</td>\n",
       "      <td>73</td>\n",
       "    </tr>\n",
       "    <tr>\n",
       "      <th>李华</th>\n",
       "      <td>79</td>\n",
       "      <td>75</td>\n",
       "      <td>76</td>\n",
       "      <td>71</td>\n",
       "    </tr>\n",
       "  </tbody>\n",
       "</table>\n",
       "</div>"
      ],
      "text/plain": [
       "    数学  英语  物理  化学\n",
       "小明  60  90  74  98\n",
       "小刘  88  78  62  73\n",
       "李华  79  75  76  71"
      ]
     },
     "execution_count": 33,
     "metadata": {},
     "output_type": "execute_result"
    }
   ],
   "source": [
    "#列切片\n",
    "#先行切片再列切片\n",
    "df.iloc[:,1:4]#左闭右开\n",
    "df.loc[:,'数学':'化学']#左闭右闭"
   ]
  }
 ],
 "metadata": {
  "kernelspec": {
   "display_name": "Python 3 (ipykernel)",
   "language": "python",
   "name": "python3"
  },
  "language_info": {
   "codemirror_mode": {
    "name": "ipython",
    "version": 3
   },
   "file_extension": ".py",
   "mimetype": "text/x-python",
   "name": "python",
   "nbconvert_exporter": "python",
   "pygments_lexer": "ipython3",
   "version": "3.12.4"
  }
 },
 "nbformat": 4,
 "nbformat_minor": 5
}
