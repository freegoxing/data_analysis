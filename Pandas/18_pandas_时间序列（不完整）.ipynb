{
 "cells": [
  {
   "cell_type": "code",
   "execution_count": 10,
   "id": "42374d23-8285-4541-b3a2-8d2f87071e73",
   "metadata": {},
   "outputs": [],
   "source": [
    "import numpy as np\n",
    "import pandas as pd"
   ]
  },
  {
   "cell_type": "markdown",
   "id": "991b1320-b1ff-4b53-b978-963acd67ce01",
   "metadata": {},
   "source": [
    "### 时间戳"
   ]
  },
  {
   "cell_type": "code",
   "execution_count": 5,
   "id": "ce5e6072-eba5-4a74-a384-49c810c46973",
   "metadata": {},
   "outputs": [
    {
     "data": {
      "text/plain": [
       "Period('2024-08-14', 'D')"
      ]
     },
     "execution_count": 5,
     "metadata": {},
     "output_type": "execute_result"
    }
   ],
   "source": [
    "#创建时间戳\n",
    "#时刻数据\n",
    "pd.Timestamp('2024-8-14')\n",
    "#时期数据\n",
    "#freq:D->day M->month Y->year\n",
    "pd.Period('2024-8-14')"
   ]
  },
  {
   "cell_type": "code",
   "execution_count": 8,
   "id": "ca0a1c53-5203-4107-9111-366ca2276cf9",
   "metadata": {},
   "outputs": [
    {
     "data": {
      "text/plain": [
       "PeriodIndex(['2024-08-14', '2024-08-15', '2024-08-16', '2024-08-17',\n",
       "             '2024-08-18'],\n",
       "            dtype='period[D]')"
      ]
     },
     "execution_count": 8,
     "metadata": {},
     "output_type": "execute_result"
    }
   ],
   "source": [
    "#批量创建\n",
    "#periods:创建多少个\n",
    "#时刻数据\n",
    "index = pd.date_range('2024.8.14',periods=5)\n",
    "#时期数据\n",
    "index = pd.period_range('2024.8.14',periods=5)\n",
    "index"
   ]
  },
  {
   "cell_type": "code",
   "execution_count": 12,
   "id": "009ebb5b-1c06-420a-a81a-1c01817a02f1",
   "metadata": {},
   "outputs": [
    {
     "data": {
      "text/plain": [
       "2024-08-14    58\n",
       "2024-08-15    36\n",
       "2024-08-16    41\n",
       "2024-08-17    85\n",
       "2024-08-18    85\n",
       "Freq: D, dtype: int32"
      ]
     },
     "execution_count": 12,
     "metadata": {},
     "output_type": "execute_result"
    }
   ],
   "source": [
    "#做索引\n",
    "pd.Series(np.random.randint(1,90,size=(5,)),index=index)"
   ]
  },
  {
   "cell_type": "code",
   "execution_count": 22,
   "id": "cd96f2e6-e481-4dd3-9fd7-b5693f3b113f",
   "metadata": {},
   "outputs": [
    {
     "data": {
      "text/plain": [
       "DatetimeIndex(['1970-05-31 20:40:56.789000'], dtype='datetime64[ns]', freq=None)"
      ]
     },
     "execution_count": 22,
     "metadata": {},
     "output_type": "execute_result"
    }
   ],
   "source": [
    "#转换\n",
    "dt = pd.to_datetime([12343256789],unit='ms')\n",
    "\n",
    "#时间差\n",
    "dt+pd.DateOffset(days=8)"
   ]
  },
  {
   "cell_type": "code",
   "execution_count": null,
   "id": "24f1aee0-51de-44a9-bfc6-055cbc43313d",
   "metadata": {},
   "outputs": [],
   "source": []
  },
  {
   "cell_type": "code",
   "execution_count": null,
   "id": "475b3baa-ac84-4682-b427-e81a53a433ee",
   "metadata": {},
   "outputs": [],
   "source": []
  },
  {
   "cell_type": "code",
   "execution_count": null,
   "id": "034ec22e-4fed-4326-88fe-d3e2383b8499",
   "metadata": {},
   "outputs": [],
   "source": []
  },
  {
   "cell_type": "code",
   "execution_count": null,
   "id": "138acb43-0bec-4131-8e05-3dbf25143d54",
   "metadata": {},
   "outputs": [],
   "source": []
  },
  {
   "cell_type": "code",
   "execution_count": null,
   "id": "bfc208a3-c552-4f2d-b85f-ddb0b6b14aa9",
   "metadata": {},
   "outputs": [],
   "source": []
  },
  {
   "cell_type": "code",
   "execution_count": null,
   "id": "0f6e061b-9c18-419b-82f9-85c2808ec7a1",
   "metadata": {},
   "outputs": [],
   "source": []
  },
  {
   "cell_type": "code",
   "execution_count": null,
   "id": "97aec5a7-16d9-4566-b86a-a32a51a81149",
   "metadata": {},
   "outputs": [],
   "source": []
  },
  {
   "cell_type": "code",
   "execution_count": null,
   "id": "7c172294-3591-486b-8f99-b52ae620ed64",
   "metadata": {},
   "outputs": [],
   "source": []
  },
  {
   "cell_type": "code",
   "execution_count": null,
   "id": "33ce22ba-eb23-4905-9dfb-e59eb6711230",
   "metadata": {},
   "outputs": [],
   "source": []
  },
  {
   "cell_type": "code",
   "execution_count": null,
   "id": "fb5fe938-63d0-4c28-a5b4-d703255fb169",
   "metadata": {},
   "outputs": [],
   "source": []
  },
  {
   "cell_type": "code",
   "execution_count": null,
   "id": "8a779396-1420-4d6d-9048-4c198e65e110",
   "metadata": {},
   "outputs": [],
   "source": []
  },
  {
   "cell_type": "code",
   "execution_count": null,
   "id": "cfd80e8b-9a29-4cd6-9351-b587ecad420c",
   "metadata": {},
   "outputs": [],
   "source": []
  },
  {
   "cell_type": "code",
   "execution_count": null,
   "id": "52377ddf-9552-46ac-b5f3-2787236ae616",
   "metadata": {},
   "outputs": [],
   "source": []
  },
  {
   "cell_type": "code",
   "execution_count": null,
   "id": "78e7ea81-b702-4d59-9b91-cf8a7b6801d0",
   "metadata": {},
   "outputs": [],
   "source": []
  },
  {
   "cell_type": "code",
   "execution_count": null,
   "id": "bab5d794-d1b1-4f46-8ddf-98d5f2bcc735",
   "metadata": {},
   "outputs": [],
   "source": []
  },
  {
   "cell_type": "code",
   "execution_count": null,
   "id": "75ea4468-ce8c-466c-9c84-d28e580a15be",
   "metadata": {},
   "outputs": [],
   "source": []
  },
  {
   "cell_type": "code",
   "execution_count": null,
   "id": "33da57d6-af00-4b3e-a86a-65e6fa25c761",
   "metadata": {},
   "outputs": [],
   "source": []
  },
  {
   "cell_type": "code",
   "execution_count": null,
   "id": "e53ebffb-725e-438b-a1be-e7e8fb4aa770",
   "metadata": {},
   "outputs": [],
   "source": []
  },
  {
   "cell_type": "code",
   "execution_count": null,
   "id": "ae158253-ce7f-4bfe-9a0d-6d44b76cf371",
   "metadata": {},
   "outputs": [],
   "source": []
  },
  {
   "cell_type": "code",
   "execution_count": null,
   "id": "d9b329f1-9e8b-402a-95b3-5baefc287a70",
   "metadata": {},
   "outputs": [],
   "source": []
  },
  {
   "cell_type": "code",
   "execution_count": null,
   "id": "99ecdb8f-3022-49c4-8b8c-83ac7bdf7171",
   "metadata": {},
   "outputs": [],
   "source": []
  },
  {
   "cell_type": "code",
   "execution_count": null,
   "id": "376e35d0-ff77-4100-be67-6e5afb9c85f9",
   "metadata": {},
   "outputs": [],
   "source": []
  }
 ],
 "metadata": {
  "kernelspec": {
   "display_name": "Python 3 (ipykernel)",
   "language": "python",
   "name": "python3"
  },
  "language_info": {
   "codemirror_mode": {
    "name": "ipython",
    "version": 3
   },
   "file_extension": ".py",
   "mimetype": "text/x-python",
   "name": "python",
   "nbconvert_exporter": "python",
   "pygments_lexer": "ipython3",
   "version": "3.12.4"
  }
 },
 "nbformat": 4,
 "nbformat_minor": 5
}
