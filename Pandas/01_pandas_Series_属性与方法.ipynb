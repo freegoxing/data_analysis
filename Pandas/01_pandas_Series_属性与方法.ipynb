{
 "cells": [
  {
   "cell_type": "code",
   "execution_count": 2,
   "id": "aba46292-252a-47a5-b544-a2b795e0ab56",
   "metadata": {},
   "outputs": [],
   "source": [
    "import numpy as np\n",
    "import pandas as pd"
   ]
  },
  {
   "cell_type": "markdown",
   "id": "77eb4f29-e214-484c-a789-3532216012eb",
   "metadata": {},
   "source": [
    "series                    \n",
    "    类似一维数组的对象由values与indexzc              \n",
    "        *values：一组数据（ndarray类型）                 \n",
    "        *index：相关数据索引标签                      "
   ]
  },
  {
   "cell_type": "markdown",
   "id": "fcd075be-42fc-46a7-b9eb-1e7c268c06d5",
   "metadata": {},
   "source": [
    "    "
   ]
  },
  {
   "cell_type": "markdown",
   "id": "7ade5f3b-9e59-4225-a73b-011a17f64586",
   "metadata": {},
   "source": [
    "一，创建series对象"
   ]
  },
  {
   "cell_type": "code",
   "execution_count": 3,
   "id": "9da6183b-adc6-4ddb-8047-4a646271fba3",
   "metadata": {
    "collapsed": true,
    "jupyter": {
     "outputs_hidden": true
    }
   },
   "outputs": [
    {
     "data": {
      "text/plain": [
       "0     1\n",
       "1    36\n",
       "2     8\n",
       "3     9\n",
       "dtype: int64"
      ]
     },
     "metadata": {},
     "output_type": "display_data"
    },
    {
     "data": {
      "text/plain": [
       "0     1\n",
       "1    36\n",
       "2     8\n",
       "3     9\n",
       "dtype: int64"
      ]
     },
     "metadata": {},
     "output_type": "display_data"
    }
   ],
   "source": [
    "#利用列表或numpy数组创建\n",
    "l1 = [1,36,8,9]\n",
    "s1 = pd. Series(l)\n",
    "\n",
    "n1 = np.array(l1)\n",
    "s2 = pd.Series(n1)\n",
    "display(s1,s2)"
   ]
  },
  {
   "cell_type": "code",
   "execution_count": 7,
   "id": "042bcaf4-1901-46d6-af43-8d1f57558665",
   "metadata": {},
   "outputs": [
    {
     "data": {
      "text/plain": [
       "a     45\n",
       "s     45\n",
       "as    45\n",
       "d     45\n",
       "f     45\n",
       "Name: wrwetry, dtype: int64"
      ]
     },
     "execution_count": 7,
     "metadata": {},
     "output_type": "execute_result"
    }
   ],
   "source": [
    "#利用字典创建\n",
    "d = {\n",
    "    'a':45,\n",
    "    's':45,\n",
    "    'as':45,\n",
    "    'd':45,\n",
    "    'f':45\n",
    "}\n",
    "\n",
    "s = pd.Series(d,name='wrwetry')\n",
    "s"
   ]
  },
  {
   "cell_type": "markdown",
   "id": "61bb36a5-2c1a-4e98-8d7e-064d799f58b4",
   "metadata": {},
   "source": [
    "二，属性"
   ]
  },
  {
   "cell_type": "code",
   "execution_count": 4,
   "id": "4b083156-d4e6-445f-b6c9-76ee4b801edf",
   "metadata": {},
   "outputs": [
    {
     "data": {
      "text/plain": [
       "(5,)"
      ]
     },
     "execution_count": 4,
     "metadata": {},
     "output_type": "execute_result"
    }
   ],
   "source": [
    "#shape\n",
    "s.shape"
   ]
  },
  {
   "cell_type": "code",
   "execution_count": 5,
   "id": "e3ef00eb-2933-4ed1-9dee-32bfbd1c27f7",
   "metadata": {},
   "outputs": [
    {
     "data": {
      "text/plain": [
       "5"
      ]
     },
     "execution_count": 5,
     "metadata": {},
     "output_type": "execute_result"
    }
   ],
   "source": [
    "#size\n",
    "s.size"
   ]
  },
  {
   "cell_type": "code",
   "execution_count": 6,
   "id": "57eae1ba-a149-4d5b-a605-4d796fb9c194",
   "metadata": {},
   "outputs": [
    {
     "data": {
      "text/plain": [
       "Index(['a', 's', 'as', 'd', 'f'], dtype='object')"
      ]
     },
     "execution_count": 6,
     "metadata": {},
     "output_type": "execute_result"
    }
   ],
   "source": [
    "s.values\n",
    "s.index"
   ]
  },
  {
   "cell_type": "code",
   "execution_count": 8,
   "id": "d855df62-a6d4-4b16-abe6-4a535725596a",
   "metadata": {},
   "outputs": [
    {
     "data": {
      "text/plain": [
       "'wrwetry'"
      ]
     },
     "execution_count": 8,
     "metadata": {},
     "output_type": "execute_result"
    }
   ],
   "source": [
    "s.name"
   ]
  },
  {
   "cell_type": "markdown",
   "id": "3b4b8159-4976-4833-aac3-096a45ab2f91",
   "metadata": {},
   "source": [
    "三，方法"
   ]
  },
  {
   "cell_type": "code",
   "execution_count": 9,
   "id": "6c1975b8-bd0c-4c8a-b1fa-0ab4c262eb27",
   "metadata": {},
   "outputs": [
    {
     "data": {
      "text/plain": [
       "as    45\n",
       "d     45\n",
       "f     45\n",
       "Name: wrwetry, dtype: int64"
      ]
     },
     "execution_count": 9,
     "metadata": {},
     "output_type": "execute_result"
    }
   ],
   "source": [
    "#head，tail\n",
    "s.head()#默认为前5个\n",
    "s.head(3)#修改为前3条\n",
    "s.tail()#默认为后5个\n",
    "s.tail(3)#修改为后3条"
   ]
  },
  {
   "cell_type": "code",
   "execution_count": 10,
   "id": "6232a10b-b7f9-4831-8f3f-f250b7e20ed8",
   "metadata": {},
   "outputs": [
    {
     "data": {
      "text/plain": [
       "0      a\n",
       "1      d\n",
       "2      e\n",
       "3      y\n",
       "4    NaN\n",
       "dtype: object"
      ]
     },
     "execution_count": 10,
     "metadata": {},
     "output_type": "execute_result"
    }
   ],
   "source": [
    "#检测缺失数据\n",
    "s = pd.Series(['a','d','e','y',np.nan])#nan空\n",
    "s"
   ]
  },
  {
   "cell_type": "code",
   "execution_count": 11,
   "id": "d95ed186-772e-4a0a-964b-dbaa7ba6ea82",
   "metadata": {},
   "outputs": [
    {
     "data": {
      "text/plain": [
       "0     True\n",
       "1     True\n",
       "2     True\n",
       "3     True\n",
       "4    False\n",
       "dtype: bool"
      ]
     },
     "execution_count": 11,
     "metadata": {},
     "output_type": "execute_result"
    }
   ],
   "source": [
    "#isnull\n",
    "#空为True\n",
    "s.isnull()\n",
    "pd.isnull(s)\n",
    "\n",
    "#notnull\n",
    "#空为False\n",
    "s.notnull()\n",
    "pd.notnull(s)"
   ]
  },
  {
   "cell_type": "code",
   "execution_count": 12,
   "id": "a0a6cd10-bcfa-4815-b9b7-9218d151942d",
   "metadata": {},
   "outputs": [
    {
     "data": {
      "text/plain": [
       "0    a\n",
       "1    d\n",
       "2    e\n",
       "3    y\n",
       "dtype: object"
      ]
     },
     "execution_count": 12,
     "metadata": {},
     "output_type": "execute_result"
    }
   ],
   "source": [
    "#利用bool过滤\n",
    "#过滤空\n",
    "cond1 = s.isnull()\n",
    "s[cond1]\n",
    "s[~cond1]#~取反\n",
    "cond2 = s.notnull()\n",
    "s[cond2]"
   ]
  }
 ],
 "metadata": {
  "kernelspec": {
   "display_name": "Python 3 (ipykernel)",
   "language": "python",
   "name": "python3"
  },
  "language_info": {
   "codemirror_mode": {
    "name": "ipython",
    "version": 3
   },
   "file_extension": ".py",
   "mimetype": "text/x-python",
   "name": "python",
   "nbconvert_exporter": "python",
   "pygments_lexer": "ipython3",
   "version": "3.12.4"
  }
 },
 "nbformat": 4,
 "nbformat_minor": 5
}
