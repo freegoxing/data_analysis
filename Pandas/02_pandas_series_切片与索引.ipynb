{
 "cells": [
  {
   "cell_type": "code",
   "execution_count": 1,
   "id": "a410e26e-41bb-47cc-bea3-8d8043671ad4",
   "metadata": {},
   "outputs": [],
   "source": [
    "import numpy as np\n",
    "import pandas as pd"
   ]
  },
  {
   "cell_type": "markdown",
   "id": "349f078b-ab06-4db2-9b09-0a7b0119fe7c",
   "metadata": {},
   "source": [
    "索引"
   ]
  },
  {
   "cell_type": "code",
   "execution_count": 6,
   "id": "d989cc65-5abd-4929-aebd-882b4ac44aaa",
   "metadata": {},
   "outputs": [
    {
     "data": {
      "text/plain": [
       "python    150\n",
       "numpy     130\n",
       "pandas    100\n",
       "dtype: int64"
      ]
     },
     "execution_count": 6,
     "metadata": {},
     "output_type": "execute_result"
    }
   ],
   "source": [
    "data = [150,130,100]\n",
    "index = ['python','numpy','pandas']\n",
    "s = pd.Series(data=data, index=index)\n",
    "s"
   ]
  },
  {
   "cell_type": "code",
   "execution_count": 21,
   "id": "4a63a840-aa70-4e85-8b88-1a7df16686c1",
   "metadata": {
    "collapsed": true,
    "jupyter": {
     "outputs_hidden": true
    }
   },
   "outputs": [
    {
     "data": {
      "text/plain": [
       "python    150\n",
       "pandas    100\n",
       "dtype: int64"
      ]
     },
     "execution_count": 21,
     "metadata": {},
     "output_type": "execute_result"
    }
   ],
   "source": [
    "#显示索引：用索引名\n",
    "s['python']#type为int\n",
    "s[['python','numpy']]#type为Series\n",
    "#利用loc\n",
    "s.loc['python']#type为int\n",
    "s.loc[['python','pandas']]#type为Series"
   ]
  },
  {
   "cell_type": "code",
   "execution_count": 20,
   "id": "dbb7da28-b1e2-4a53-b858-4ea00d7c9647",
   "metadata": {
    "collapsed": true,
    "jupyter": {
     "outputs_hidden": true
    }
   },
   "outputs": [
    {
     "name": "stderr",
     "output_type": "stream",
     "text": [
      "C:\\Users\\freedom\\AppData\\Local\\Temp\\ipykernel_18024\\942178147.py:2: FutureWarning: Series.__getitem__ treating keys as positions is deprecated. In a future version, integer keys will always be treated as labels (consistent with DataFrame behavior). To access a value by position, use `ser.iloc[pos]`\n",
      "  s[1]#type为int\n",
      "C:\\Users\\freedom\\AppData\\Local\\Temp\\ipykernel_18024\\942178147.py:3: FutureWarning: Series.__getitem__ treating keys as positions is deprecated. In a future version, integer keys will always be treated as labels (consistent with DataFrame behavior). To access a value by position, use `ser.iloc[pos]`\n",
      "  s[[2,1]]#type为Series\n"
     ]
    },
    {
     "data": {
      "text/plain": [
       "numpy     130\n",
       "python    150\n",
       "dtype: int64"
      ]
     },
     "execution_count": 20,
     "metadata": {},
     "output_type": "execute_result"
    }
   ],
   "source": [
    "#隐示索引,利用数字下标\n",
    "s[1]#type为int\n",
    "s[[2,1]]#type为Series\n",
    "#利用iloc\n",
    "s.iloc[1]#type为int\n",
    "s.iloc[[1,0]]#type为Series"
   ]
  },
  {
   "cell_type": "markdown",
   "id": "acd078d5-a605-49d5-951e-6f0c04ef8e4b",
   "metadata": {},
   "source": [
    "切片"
   ]
  },
  {
   "cell_type": "code",
   "execution_count": 24,
   "id": "35de5f8d-809a-4fe3-8a7f-8838a4060bd5",
   "metadata": {
    "collapsed": true,
    "jupyter": {
     "outputs_hidden": true
    }
   },
   "outputs": [
    {
     "data": {
      "text/plain": [
       "语文        123\n",
       "数学        145\n",
       "python    135\n",
       "numpy     100\n",
       "pygame    105\n",
       "driver     95\n",
       "xapth      85\n",
       "dtype: int64"
      ]
     },
     "execution_count": 24,
     "metadata": {},
     "output_type": "execute_result"
    }
   ],
   "source": [
    "s = pd.Series({\n",
    "    '语文':123,\n",
    "    '数学':145,\n",
    "    'python':135,\n",
    "    'numpy':100,\n",
    "    'pygame':105,\n",
    "    'driver':95,\n",
    "    'xapth':85,\n",
    "})\n",
    "s"
   ]
  },
  {
   "cell_type": "code",
   "execution_count": 29,
   "id": "aa448bb0-89fe-4f1b-b331-99908f76a319",
   "metadata": {
    "collapsed": true,
    "jupyter": {
     "outputs_hidden": true
    }
   },
   "outputs": [
    {
     "data": {
      "text/plain": [
       "数学        145\n",
       "python    135\n",
       "numpy     100\n",
       "dtype: int64"
      ]
     },
     "execution_count": 29,
     "metadata": {},
     "output_type": "execute_result"
    }
   ],
   "source": [
    "#显示切片：用索引名(左闭右闭)\n",
    "s['数学':'pygame']\n",
    "s.loc['数学':'pygame']\n",
    "\n",
    "#隐示切片,利用数字下标(左闭右开)\n",
    "s[1:4]\n",
    "s.iloc[1:4]"
   ]
  },
  {
   "cell_type": "code",
   "execution_count": null,
   "id": "73109860-57f7-4789-b4fc-867ed030a3cc",
   "metadata": {},
   "outputs": [],
   "source": []
  },
  {
   "cell_type": "code",
   "execution_count": null,
   "id": "47324c60-6742-45cb-9106-efc3d43fefcd",
   "metadata": {},
   "outputs": [],
   "source": []
  },
  {
   "cell_type": "code",
   "execution_count": null,
   "id": "284c7aea-635e-4b48-8a1c-e56bcc0b80a1",
   "metadata": {},
   "outputs": [],
   "source": []
  },
  {
   "cell_type": "code",
   "execution_count": null,
   "id": "0dffa4f6-0c4e-4da9-af47-91bfd6116279",
   "metadata": {},
   "outputs": [],
   "source": []
  },
  {
   "cell_type": "code",
   "execution_count": null,
   "id": "be6d1f92-441a-4c5f-9c16-8854f6f12f16",
   "metadata": {},
   "outputs": [],
   "source": []
  },
  {
   "cell_type": "code",
   "execution_count": null,
   "id": "af80804a-710c-4c09-beb3-72047965b27a",
   "metadata": {},
   "outputs": [],
   "source": []
  }
 ],
 "metadata": {
  "kernelspec": {
   "display_name": "Python 3 (ipykernel)",
   "language": "python",
   "name": "python3"
  },
  "language_info": {
   "codemirror_mode": {
    "name": "ipython",
    "version": 3
   },
   "file_extension": ".py",
   "mimetype": "text/x-python",
   "name": "python",
   "nbconvert_exporter": "python",
   "pygments_lexer": "ipython3",
   "version": "3.12.4"
  }
 },
 "nbformat": 4,
 "nbformat_minor": 5
}
